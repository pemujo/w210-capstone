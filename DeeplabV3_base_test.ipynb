{
 "cells": [
  {
   "cell_type": "code",
   "execution_count": 2,
   "id": "93b74b14-4514-4f38-b223-5d644d38905c",
   "metadata": {},
   "outputs": [],
   "source": [
    "TRAIN_MODE = True"
   ]
  },
  {
   "cell_type": "code",
   "execution_count": 1,
   "id": "5349c11d-4ba6-4542-b2a7-00a29ecae1a5",
   "metadata": {},
   "outputs": [],
   "source": [
    "import os\n",
    "\n",
    "import numpy as np\n",
    "import pandas as pd\n",
    "import matplotlib.pyplot as plt\n",
    "from tqdm.notebook import tqdm\n",
    "\n",
    "import torch\n",
    "import torch.nn as nn\n",
    "import multiprocessing\n",
    "from pandarallel import pandarallel"
   ]
  },
  {
   "cell_type": "code",
   "execution_count": 3,
   "id": "bea7154d-d24e-4c4d-bb84-3a7930932f6d",
   "metadata": {},
   "outputs": [
    {
     "name": "stdout",
     "output_type": "stream",
     "text": [
      "CPUs available:  8\n",
      "INFO: Pandarallel will run on 8 workers.\n",
      "INFO: Pandarallel will use Memory file system to transfer data between the main process and workers.\n"
     ]
    }
   ],
   "source": [
    "# To use all available CPUs\n",
    "n_cpus = multiprocessing.cpu_count()\n",
    "print('CPUs available: ', n_cpus)\n",
    "pandarallel.initialize(progress_bar=True, nb_workers=n_cpus)"
   ]
  },
  {
   "cell_type": "code",
   "execution_count": 4,
   "id": "06f12080-4d69-49f1-91b6-e9af3ce639da",
   "metadata": {},
   "outputs": [
    {
     "name": "stdout",
     "output_type": "stream",
     "text": [
      "Using cpu device\n"
     ]
    }
   ],
   "source": [
    "def get_device():\n",
    "    device = \"cuda\" if torch.cuda.is_available() else \"cpu\"\n",
    "    print(f\"Using {device} device\")\n",
    "    return device\n",
    "\n",
    "device = get_device()"
   ]
  },
  {
   "cell_type": "code",
   "execution_count": 5,
   "id": "e2847569-0d0d-46a1-b2d3-4d3baa199dc5",
   "metadata": {},
   "outputs": [],
   "source": [
    "class CFG:\n",
    "    # Data\n",
    "    BASE_DIR = \"../contrails-kaggle-files/\"\n",
    "    TRAIN_DIR = BASE_DIR + \"train/\"\n",
    "    VALIDATION_DIR = BASE_DIR + \"validation/\"\n",
    "\n",
    "    \n",
    "    # Train\n",
    "    num_epochs = 20\n",
    "    batch_size = 1\n",
    "    num_workers = multiprocessing.cpu_count()\n",
    "    \n",
    "    # Optimizer\n",
    "    lr = 0.0001"
   ]
  },
  {
   "cell_type": "code",
   "execution_count": 6,
   "id": "528f5b32-367d-446d-b8c4-1ff7ff23e911",
   "metadata": {},
   "outputs": [
    {
     "data": {
      "text/plain": [
       "['sample_submission.csv',\n",
       " 'train_metadata.json',\n",
       " 'validation_pedro_metadata.json',\n",
       " 'train',\n",
       " 'validation',\n",
       " '.ipynb_checkpoints',\n",
       " 'src',\n",
       " 'validation_metadata.json_original',\n",
       " 'test']"
      ]
     },
     "execution_count": 6,
     "metadata": {},
     "output_type": "execute_result"
    }
   ],
   "source": [
    "os.listdir('../contrails-kaggle-files/')"
   ]
  },
  {
   "cell_type": "code",
   "execution_count": 7,
   "id": "1dbf7c55-771e-4df1-a61a-a255d92dded6",
   "metadata": {},
   "outputs": [],
   "source": [
    "# Sample normalization code\n",
    "_T11_BOUNDS = (243, 303)\n",
    "_CLOUD_TOP_TDIFF_BOUNDS = (-4, 5)\n",
    "_TDIFF_BOUNDS = (-4, 2)\n",
    "\n",
    "def normalize_range(data, bounds):\n",
    "    \"\"\"Maps data to the range [0, 1].\"\"\"\n",
    "    return (data - bounds[0]) / (bounds[1] - bounds[0])\n",
    "\n",
    "def normalize_std(spec):\n",
    "    return (spec- np.mean(spec))/np.std(spec)\n",
    "\n",
    "class Dataset(torch.utils.data.Dataset):\n",
    "    def __init__(self, data_path, mode='train'):\n",
    "        self.data_path = data_path\n",
    "        self.file_name = os.listdir(data_path)\n",
    "        self.mode = mode\n",
    "        \n",
    "\n",
    "    def __len__(self):\n",
    "        return len(self.file_name)\n",
    "\n",
    "    def __getitem__(self, i):\n",
    "        \n",
    "\n",
    "        ash = np.load(self.data_path + self.file_name[i] + '/ash_image.npy')\n",
    "        # extra_band = normalize_band(band_14)\n",
    "\n",
    "        # band_14 = np.load(self.data_path + self.file_name[i] + '/band_14.npy')\n",
    "        # # band_14= band_14/np.linalg.norm(band_14)\n",
    "        # band_15 = np.load(self.data_path + self.file_name[i] + '/band_15.npy')\n",
    "        \n",
    "\n",
    "        \n",
    "        # r = normalize_range(band_15 - band_14, _TDIFF_BOUNDS)\n",
    "        # g = normalize_range(band_14 - band_11, _CLOUD_TOP_TDIFF_BOUNDS)\n",
    "        # b = normalize_range(band_14, _T11_BOUNDS)\n",
    "        x = np.transpose(ash[:,:,:,4],(2,0,1))\n",
    "        x = normalize_std(x)\n",
    "        \n",
    "        if self.mode == 'train':\n",
    "            # with bucket.blob(self.data_path + self.file_name[i] + '/human_pixel_masks.npy').open(\"rb\") as f:\n",
    "            y = np.load(self.data_path + self.file_name[i] + '/human_pixel_masks.npy').astype(np.float32).transpose(2,0,1)\n",
    "        elif self.mode == 'test':\n",
    "            y = self.file_name[i]\n",
    "        else:\n",
    "            y = None\n",
    "        \n",
    "        return x, y"
   ]
  },
  {
   "cell_type": "code",
   "execution_count": 8,
   "id": "ad40ccae-fdb4-4632-92e5-35184a7e4319",
   "metadata": {},
   "outputs": [
    {
     "data": {
      "text/plain": [
       "'../contrails-kaggle-files/train/'"
      ]
     },
     "execution_count": 8,
     "metadata": {},
     "output_type": "execute_result"
    }
   ],
   "source": [
    "CFG.TRAIN_DIR"
   ]
  },
  {
   "cell_type": "code",
   "execution_count": 9,
   "id": "94d0bce1-aa12-4f88-bbe4-58d3ebf69eab",
   "metadata": {},
   "outputs": [],
   "source": [
    "\n",
    "base_path = '../contrails-kaggle-files/'\n",
    "train_path = base_path + 'train/'\n",
    "test_path = base_path + 'test/'\n",
    "record_id = '8070893861055857193'\n",
    "validation_files_df = pd.DataFrame(os.listdir(base_path + 'validation'), columns=['record_id'])\n",
    "train_metadata_df = pd.read_json(base_path+ \"train_metadata.json\")"
   ]
  },
  {
   "cell_type": "code",
   "execution_count": 10,
   "id": "8d05ae9f-17f3-4fcb-ad20-71e8f1d5e820",
   "metadata": {},
   "outputs": [],
   "source": [
    "num_epochs = CFG.num_epochs\n",
    "batch_size = CFG.batch_size\n",
    "num_workers = CFG.num_workers\n",
    "\n",
    "train_dataset = Dataset(CFG.TRAIN_DIR)\n",
    "validation_dataset = Dataset(CFG.VALIDATION_DIR)\n",
    "\n"
   ]
  },
  {
   "cell_type": "code",
   "execution_count": 10,
   "id": "baaad9e3-4b43-4f8b-b214-5bfba84db457",
   "metadata": {},
   "outputs": [
    {
     "name": "stderr",
     "output_type": "stream",
     "text": [
      "Using cache found in /home/jupyter/.cache/torch/hub/pytorch_vision_v0.10.0\n"
     ]
    }
   ],
   "source": [
    "class Dice(nn.Module):\n",
    "    def __init__(self, weight=None, size_average=True):\n",
    "        super(Dice, self).__init__()\n",
    "        self.sigmoid = nn.Sigmoid()\n",
    "\n",
    "    def forward(self, inputs, targets, smooth=1):\n",
    "        \n",
    "        inputs = self.sigmoid(inputs)       \n",
    "        \n",
    "        inputs = inputs.view(-1)\n",
    "        targets = targets.view(-1)\n",
    "        \n",
    "        intersection = (inputs * targets).sum()                            \n",
    "        dice = (2.*intersection + smooth)/(inputs.sum() + targets.sum() + smooth)  \n",
    "        \n",
    "        return dice\n",
    "    \n",
    "dice = Dice()\n",
    "\n",
    "model = torch.hub.load('pytorch/vision:v0.10.0', 'deeplabv3_resnet50', pretrained=False, num_classes=1)\n",
    "model.to(device);\n",
    "\n",
    "optimizer = torch.optim.AdamW(model.parameters(), lr=CFG.lr)\n",
    "criterion = nn.BCEWithLogitsLoss()\n",
    "\n",
    "m = nn.Sigmoid()"
   ]
  },
  {
   "cell_type": "code",
   "execution_count": 98,
   "id": "9fecbacb-c448-454c-b5cf-748b5fd62d98",
   "metadata": {},
   "outputs": [],
   "source": [
    "train_loader = torch.utils.data.DataLoader(train_dataset, batch_size=batch_size, shuffle=True, num_workers=num_workers, drop_last=True, pin_memory=True)\n",
    "validation_loader = torch.utils.data.DataLoader(validation_dataset, batch_size=batch_size, shuffle=False, num_workers=num_workers, drop_last=True, pin_memory=True)\n"
   ]
  },
  {
   "cell_type": "code",
   "execution_count": 13,
   "id": "54455dc0-e631-490b-915d-e024d2499cd3",
   "metadata": {},
   "outputs": [
    {
     "data": {
      "application/vnd.jupyter.widget-view+json": {
       "model_id": "c9764c1e0a19444b9cb286a3783d79dc",
       "version_major": 2,
       "version_minor": 0
      },
      "text/plain": [
       "  0%|          | 0/427 [00:00<?, ?it/s]"
      ]
     },
     "metadata": {},
     "output_type": "display_data"
    },
    {
     "name": "stdout",
     "output_type": "stream",
     "text": [
      "Epoch [1/20], loss: 0.00065, dice: 0.07569, val_loss: 0.00045, val_dice: 0.04346\n"
     ]
    },
    {
     "data": {
      "application/vnd.jupyter.widget-view+json": {
       "model_id": "715bd55601ad4692832b15dbcb711e40",
       "version_major": 2,
       "version_minor": 0
      },
      "text/plain": [
       "  0%|          | 0/427 [00:00<?, ?it/s]"
      ]
     },
     "metadata": {},
     "output_type": "display_data"
    },
    {
     "name": "stdout",
     "output_type": "stream",
     "text": [
      "Epoch [2/20], loss: 0.00045, dice: 0.13406, val_loss: 0.00024, val_dice: 0.09030\n"
     ]
    },
    {
     "data": {
      "application/vnd.jupyter.widget-view+json": {
       "model_id": "8064e2cd0be14638842726c34376f331",
       "version_major": 2,
       "version_minor": 0
      },
      "text/plain": [
       "  0%|          | 0/427 [00:00<?, ?it/s]"
      ]
     },
     "metadata": {},
     "output_type": "display_data"
    },
    {
     "name": "stdout",
     "output_type": "stream",
     "text": [
      "Epoch [3/20], loss: 0.00038, dice: 0.18018, val_loss: 0.00022, val_dice: 0.12239\n"
     ]
    },
    {
     "data": {
      "application/vnd.jupyter.widget-view+json": {
       "model_id": "628bc144d4604a888d826dcc98affd8f",
       "version_major": 2,
       "version_minor": 0
      },
      "text/plain": [
       "  0%|          | 0/427 [00:00<?, ?it/s]"
      ]
     },
     "metadata": {},
     "output_type": "display_data"
    },
    {
     "name": "stdout",
     "output_type": "stream",
     "text": [
      "Epoch [4/20], loss: 0.00034, dice: 0.21725, val_loss: 0.00016, val_dice: 0.16085\n"
     ]
    },
    {
     "data": {
      "application/vnd.jupyter.widget-view+json": {
       "model_id": "d6a97ff8352e4267a18f6015d86e6fe1",
       "version_major": 2,
       "version_minor": 0
      },
      "text/plain": [
       "  0%|          | 0/427 [00:00<?, ?it/s]"
      ]
     },
     "metadata": {},
     "output_type": "display_data"
    },
    {
     "name": "stdout",
     "output_type": "stream",
     "text": [
      "Epoch [5/20], loss: 0.00031, dice: 0.24869, val_loss: 0.00016, val_dice: 0.18955\n"
     ]
    },
    {
     "data": {
      "application/vnd.jupyter.widget-view+json": {
       "model_id": "7ea30781693a47389ad9525be3106d1a",
       "version_major": 2,
       "version_minor": 0
      },
      "text/plain": [
       "  0%|          | 0/427 [00:00<?, ?it/s]"
      ]
     },
     "metadata": {},
     "output_type": "display_data"
    },
    {
     "name": "stdout",
     "output_type": "stream",
     "text": [
      "Epoch [6/20], loss: 0.00029, dice: 0.27779, val_loss: 0.00015, val_dice: 0.21068\n"
     ]
    },
    {
     "data": {
      "application/vnd.jupyter.widget-view+json": {
       "model_id": "729becb3c2bf4f02b8652b30d7ed26c4",
       "version_major": 2,
       "version_minor": 0
      },
      "text/plain": [
       "  0%|          | 0/427 [00:00<?, ?it/s]"
      ]
     },
     "metadata": {},
     "output_type": "display_data"
    },
    {
     "name": "stdout",
     "output_type": "stream",
     "text": [
      "Epoch [7/20], loss: 0.00027, dice: 0.30409, val_loss: 0.00021, val_dice: 0.21870\n"
     ]
    },
    {
     "data": {
      "application/vnd.jupyter.widget-view+json": {
       "model_id": "2c79adbadc284cd49c0d5ce90ad5c075",
       "version_major": 2,
       "version_minor": 0
      },
      "text/plain": [
       "  0%|          | 0/427 [00:00<?, ?it/s]"
      ]
     },
     "metadata": {},
     "output_type": "display_data"
    },
    {
     "name": "stdout",
     "output_type": "stream",
     "text": [
      "Epoch [8/20], loss: 0.00025, dice: 0.32909, val_loss: 0.00016, val_dice: 0.24378\n"
     ]
    },
    {
     "data": {
      "application/vnd.jupyter.widget-view+json": {
       "model_id": "7dddea46104747aa8d67011b77850d24",
       "version_major": 2,
       "version_minor": 0
      },
      "text/plain": [
       "  0%|          | 0/427 [00:00<?, ?it/s]"
      ]
     },
     "metadata": {},
     "output_type": "display_data"
    },
    {
     "name": "stdout",
     "output_type": "stream",
     "text": [
      "Epoch [9/20], loss: 0.00024, dice: 0.35243, val_loss: 0.00022, val_dice: 0.23917\n"
     ]
    },
    {
     "data": {
      "application/vnd.jupyter.widget-view+json": {
       "model_id": "5d4565af94f04850b498eb069953788a",
       "version_major": 2,
       "version_minor": 0
      },
      "text/plain": [
       "  0%|          | 0/427 [00:00<?, ?it/s]"
      ]
     },
     "metadata": {},
     "output_type": "display_data"
    },
    {
     "name": "stdout",
     "output_type": "stream",
     "text": [
      "Epoch [10/20], loss: 0.00023, dice: 0.37233, val_loss: 0.00013, val_dice: 0.27829\n"
     ]
    },
    {
     "data": {
      "application/vnd.jupyter.widget-view+json": {
       "model_id": "1339527ba8484493ae810b5b0c1f4e24",
       "version_major": 2,
       "version_minor": 0
      },
      "text/plain": [
       "  0%|          | 0/427 [00:00<?, ?it/s]"
      ]
     },
     "metadata": {},
     "output_type": "display_data"
    },
    {
     "name": "stdout",
     "output_type": "stream",
     "text": [
      "Epoch [11/20], loss: 0.00022, dice: 0.38837, val_loss: 0.00018, val_dice: 0.27094\n"
     ]
    },
    {
     "data": {
      "application/vnd.jupyter.widget-view+json": {
       "model_id": "7829f22b2f9d4459a651f844a193ebe0",
       "version_major": 2,
       "version_minor": 0
      },
      "text/plain": [
       "  0%|          | 0/427 [00:00<?, ?it/s]"
      ]
     },
     "metadata": {},
     "output_type": "display_data"
    },
    {
     "name": "stdout",
     "output_type": "stream",
     "text": [
      "Epoch [12/20], loss: 0.00021, dice: 0.40276, val_loss: 0.00014, val_dice: 0.30033\n"
     ]
    },
    {
     "data": {
      "application/vnd.jupyter.widget-view+json": {
       "model_id": "a3f6fc10bd424d7e8a8f09097bf33fc6",
       "version_major": 2,
       "version_minor": 0
      },
      "text/plain": [
       "  0%|          | 0/427 [00:00<?, ?it/s]"
      ]
     },
     "metadata": {},
     "output_type": "display_data"
    },
    {
     "name": "stdout",
     "output_type": "stream",
     "text": [
      "Epoch [13/20], loss: 0.00021, dice: 0.41485, val_loss: 0.00015, val_dice: 0.29973\n"
     ]
    },
    {
     "data": {
      "application/vnd.jupyter.widget-view+json": {
       "model_id": "f10ccc848f7b4541997078553e68973c",
       "version_major": 2,
       "version_minor": 0
      },
      "text/plain": [
       "  0%|          | 0/427 [00:00<?, ?it/s]"
      ]
     },
     "metadata": {},
     "output_type": "display_data"
    },
    {
     "name": "stdout",
     "output_type": "stream",
     "text": [
      "Epoch [14/20], loss: 0.00020, dice: 0.42903, val_loss: 0.00016, val_dice: 0.27894\n"
     ]
    },
    {
     "data": {
      "application/vnd.jupyter.widget-view+json": {
       "model_id": "86326b5d66074a139c97b2b82bb3a086",
       "version_major": 2,
       "version_minor": 0
      },
      "text/plain": [
       "  0%|          | 0/427 [00:00<?, ?it/s]"
      ]
     },
     "metadata": {},
     "output_type": "display_data"
    },
    {
     "name": "stdout",
     "output_type": "stream",
     "text": [
      "Epoch [15/20], loss: 0.00020, dice: 0.43752, val_loss: 0.00015, val_dice: 0.31856\n"
     ]
    },
    {
     "data": {
      "application/vnd.jupyter.widget-view+json": {
       "model_id": "791531463fe942dbac997d0836e19f4b",
       "version_major": 2,
       "version_minor": 0
      },
      "text/plain": [
       "  0%|          | 0/427 [00:00<?, ?it/s]"
      ]
     },
     "metadata": {},
     "output_type": "display_data"
    },
    {
     "name": "stdout",
     "output_type": "stream",
     "text": [
      "Epoch [16/20], loss: 0.00019, dice: 0.44628, val_loss: 0.00015, val_dice: 0.31079\n"
     ]
    },
    {
     "data": {
      "application/vnd.jupyter.widget-view+json": {
       "model_id": "570b14c36b4249468bdbbe252dda3e8f",
       "version_major": 2,
       "version_minor": 0
      },
      "text/plain": [
       "  0%|          | 0/427 [00:00<?, ?it/s]"
      ]
     },
     "metadata": {},
     "output_type": "display_data"
    },
    {
     "name": "stdout",
     "output_type": "stream",
     "text": [
      "Epoch [17/20], loss: 0.00019, dice: 0.45414, val_loss: 0.00015, val_dice: 0.32080\n"
     ]
    },
    {
     "data": {
      "application/vnd.jupyter.widget-view+json": {
       "model_id": "6b991e1695744a128f4ccdbb58cc4113",
       "version_major": 2,
       "version_minor": 0
      },
      "text/plain": [
       "  0%|          | 0/427 [00:00<?, ?it/s]"
      ]
     },
     "metadata": {},
     "output_type": "display_data"
    },
    {
     "name": "stdout",
     "output_type": "stream",
     "text": [
      "Epoch [18/20], loss: 0.00019, dice: 0.46252, val_loss: 0.00016, val_dice: 0.32428\n"
     ]
    },
    {
     "data": {
      "application/vnd.jupyter.widget-view+json": {
       "model_id": "0fa343c089c04146ace9f9f1692d11b3",
       "version_major": 2,
       "version_minor": 0
      },
      "text/plain": [
       "  0%|          | 0/427 [00:00<?, ?it/s]"
      ]
     },
     "metadata": {},
     "output_type": "display_data"
    },
    {
     "name": "stdout",
     "output_type": "stream",
     "text": [
      "Epoch [19/20], loss: 0.00018, dice: 0.46737, val_loss: 0.00017, val_dice: 0.33002\n"
     ]
    },
    {
     "data": {
      "application/vnd.jupyter.widget-view+json": {
       "model_id": "c0c7317181524a1e819d0a615e576b09",
       "version_major": 2,
       "version_minor": 0
      },
      "text/plain": [
       "  0%|          | 0/427 [00:00<?, ?it/s]"
      ]
     },
     "metadata": {},
     "output_type": "display_data"
    },
    {
     "name": "stdout",
     "output_type": "stream",
     "text": [
      "Epoch [20/20], loss: 0.00018, dice: 0.47248, val_loss: 0.00016, val_dice: 0.32611\n"
     ]
    }
   ],
   "source": [
    "for epoch in range(num_epochs):\n",
    "    train_loss, val_loss = 0, 0\n",
    "    train_dice, val_dice = 0, 0\n",
    "    n_train, n_val = 0, 0\n",
    "\n",
    "    model.train()\n",
    "    for i_train, (X, y) in enumerate(tqdm(train_loader)):   \n",
    "        n_train += len(y)\n",
    "        X = X.to(device)\n",
    "        y = y.to(device)\n",
    "\n",
    "        optimizer.zero_grad()\n",
    "        pred = model(X)['out']\n",
    "        loss = criterion(torch.flatten(pred), torch.flatten(y))\n",
    "        dice_temp = dice(torch.flatten(pred), torch.flatten(y))\n",
    "\n",
    "        loss.backward()\n",
    "\n",
    "        optimizer.step()\n",
    "        train_loss += loss.item()\n",
    "        train_dice += dice_temp.item()\n",
    "\n",
    "    model.eval()\n",
    "    with torch.no_grad():\n",
    "        for i_val, (X, y) in enumerate(validation_loader):   \n",
    "            n_val += len(y)\n",
    "            X = X.to(device)\n",
    "            y = y.to(device)\n",
    "\n",
    "            pred = model(X)['out']\n",
    "            loss = criterion(torch.flatten(pred), torch.flatten(y))\n",
    "            dice_temp = dice(torch.flatten(pred), torch.flatten(y))\n",
    "\n",
    "            val_loss += loss.item()\n",
    "            val_dice += dice_temp.item()\n",
    "\n",
    "    print (f'Epoch [{(epoch+1)}/{num_epochs}], loss: {train_loss/n_train:.5f}, dice: {(train_dice+1e-23)/i_train:.5f}, val_loss: {val_loss/n_val:.5f}, val_dice: {(val_dice+1e-23)/i_val:.5f}')\n"
   ]
  },
  {
   "cell_type": "code",
   "execution_count": 21,
   "id": "5638527c-6a24-4b22-afed-d02849d87530",
   "metadata": {},
   "outputs": [
    {
     "name": "stdout",
     "output_type": "stream",
     "text": [
      "Epoch [10/10], loss: 0.00075, dice: 0.17389, val_loss: 0.00058, val_dice: 0.10255\n"
     ]
    }
   ],
   "source": [
    "print (f'Epoch [{(epoch+1)}/{num_epochs}], loss: {train_loss/n_train:.5f}, dice: {(train_dice+1e-23)/i_train:.5f}, val_loss: {val_loss/n_val:.5f}, val_dice: {(val_dice+1e-23)/i_val:.5f}')"
   ]
  },
  {
   "cell_type": "code",
   "execution_count": 45,
   "id": "92f1ba15-45be-443a-8452-3234adc66f4a",
   "metadata": {},
   "outputs": [
    {
     "name": "stdout",
     "output_type": "stream",
     "text": [
      "/home/jupyter/w210-capstone\n"
     ]
    }
   ],
   "source": [
    "!pwd"
   ]
  },
  {
   "cell_type": "code",
   "execution_count": 46,
   "id": "42da0dc3-02f3-443b-ae64-0aeb1d3f0ea9",
   "metadata": {},
   "outputs": [],
   "source": [
    "\n",
    "torch.save(model, \"./model_saved\")"
   ]
  },
  {
   "cell_type": "code",
   "execution_count": 48,
   "id": "f7d32f18-3716-45b1-b433-3a1f3d30a118",
   "metadata": {},
   "outputs": [],
   "source": [
    "# model"
   ]
  },
  {
   "cell_type": "code",
   "execution_count": 171,
   "id": "b40e5f0f-3c04-42a0-96bf-a19fe92c8d21",
   "metadata": {},
   "outputs": [
    {
     "name": "stdout",
     "output_type": "stream",
     "text": [
      "../contrails-kaggle-files/test/\n",
      "['1002653297254493116', '1000834164244036115', '8098169127491247044']\n"
     ]
    }
   ],
   "source": [
    "\n",
    "\n",
    "test_dataset = Dataset('../contrails-kaggle-files/test/', mode='test')\n",
    "\n"
   ]
  },
  {
   "cell_type": "code",
   "execution_count": 172,
   "id": "99eae4ca-947f-4f74-bbaa-aba711b19ebb",
   "metadata": {},
   "outputs": [],
   "source": [
    "test_loader = torch.utils.data.DataLoader(test_dataset, batch_size=1, shuffle=False, num_workers=num_workers, drop_last=False, pin_memory=True)"
   ]
  },
  {
   "cell_type": "code",
   "execution_count": 165,
   "id": "8cf3931a-bb76-4875-a7b2-bdbde05fca57",
   "metadata": {},
   "outputs": [
    {
     "data": {
      "text/plain": [
       "'../contrails-kaggle-files/test/'"
      ]
     },
     "execution_count": 165,
     "metadata": {},
     "output_type": "execute_result"
    }
   ],
   "source": [
    "test_dataset.data_path"
   ]
  },
  {
   "cell_type": "code",
   "execution_count": 136,
   "id": "f35e1a9c-b523-41c4-af73-b4422f1bde8b",
   "metadata": {},
   "outputs": [],
   "source": [
    "# for index, (X, rec) in enumerate(test_dataset):\n",
    "#         print(X)\n",
    "#         print(index)"
   ]
  },
  {
   "cell_type": "code",
   "execution_count": 181,
   "id": "91c3fd47-1558-49a5-81fb-dd6aba7a8655",
   "metadata": {},
   "outputs": [
    {
     "name": "stdout",
     "output_type": "stream",
     "text": [
      "hello\n",
      "hello\n",
      "hello\n"
     ]
    },
    {
     "data": {
      "text/html": [
       "<div>\n",
       "<style scoped>\n",
       "    .dataframe tbody tr th:only-of-type {\n",
       "        vertical-align: middle;\n",
       "    }\n",
       "\n",
       "    .dataframe tbody tr th {\n",
       "        vertical-align: top;\n",
       "    }\n",
       "\n",
       "    .dataframe thead th {\n",
       "        text-align: right;\n",
       "    }\n",
       "</style>\n",
       "<table border=\"1\" class=\"dataframe\">\n",
       "  <thead>\n",
       "    <tr style=\"text-align: right;\">\n",
       "      <th></th>\n",
       "      <th>encoded_pixels</th>\n",
       "    </tr>\n",
       "    <tr>\n",
       "      <th>record_id</th>\n",
       "      <th></th>\n",
       "    </tr>\n",
       "  </thead>\n",
       "  <tbody>\n",
       "    <tr>\n",
       "      <th>1000834164244036115</th>\n",
       "      <td>NaN</td>\n",
       "    </tr>\n",
       "    <tr>\n",
       "      <th>1002653297254493116</th>\n",
       "      <td>NaN</td>\n",
       "    </tr>\n",
       "  </tbody>\n",
       "</table>\n",
       "</div>"
      ],
      "text/plain": [
       "                     encoded_pixels\n",
       "record_id                          \n",
       "1000834164244036115             NaN\n",
       "1002653297254493116             NaN"
      ]
     },
     "execution_count": 181,
     "metadata": {},
     "output_type": "execute_result"
    }
   ],
   "source": [
    "submission = pd.read_csv('../contrails-kaggle-files/sample_submission.csv', index_col='record_id')\n",
    "model.eval()\n",
    "masks=[]\n",
    "with torch.no_grad():\n",
    "    # print(\"hello\")\n",
    "    for X, rec in test_loader:\n",
    "        X = X.to(device)\n",
    "        pred = m(model(X)['out']).cpu().detach().numpy().copy()[0,0,:,:] \n",
    "        mask = np.zeros((256, 256))\n",
    "        mask[pred<0.3] = 0\n",
    "        mask[pred>0.3] = 1\n",
    "        print(\"hello\")\n",
    "        masks.append(mask)\n",
    "        # submission.loc[int(rec[0]), 'encoded_pixels'] = list_to_string(rle_encode(mask))\n",
    "        # submission.loc[int(rec[0]), 'mask'] = mask\n",
    "submission.head()"
   ]
  },
  {
   "cell_type": "code",
   "execution_count": 182,
   "id": "9e9057fc-833b-4d14-8e4e-2e9d8dc29c18",
   "metadata": {},
   "outputs": [
    {
     "data": {
      "text/plain": [
       "<matplotlib.image.AxesImage at 0x7fe7e85f62c0>"
      ]
     },
     "execution_count": 182,
     "metadata": {},
     "output_type": "execute_result"
    },
    {
     "data": {
      "image/png": "[encoded data removed]",
      "text/plain": [
       "<Figure size 640x480 with 1 Axes>"
      ]
     },
     "metadata": {},
     "output_type": "display_data"
    }
   ],
   "source": [
    "# im.show(masks[1])\n",
    "plt.imshow(masks[2])\n",
    "# len(masks)"
   ]
  },
  {
   "cell_type": "code",
   "execution_count": 180,
   "id": "e80e9c09-c784-4881-a3e2-c5bafd1b0afe",
   "metadata": {},
   "outputs": [
    {
     "data": {
      "text/plain": [
       "<matplotlib.image.AxesImage at 0x7fe7e859d4b0>"
      ]
     },
     "execution_count": 180,
     "metadata": {},
     "output_type": "execute_result"
    },
    {
     "data": {
      "image/png": "[encoded data removed]",
      "text/plain": [
       "<Figure size 640x480 with 1 Axes>"
      ]
     },
     "metadata": {},
     "output_type": "display_data"
    }
   ],
   "source": [
    "label = np.load(test_path + '8098169127491247044/human_pixel_masks.npy')\n",
    "plt.imshow(label)"
   ]
  },
  {
   "cell_type": "code",
   "execution_count": 145,
   "id": "caa33253-182e-4973-9b37-8d6b886a7480",
   "metadata": {},
   "outputs": [
    {
     "name": "stdout",
     "output_type": "stream",
     "text": [
      "0\n",
      "1\n"
     ]
    }
   ],
   "source": [
    "train_loss, val_loss = 0, 0\n",
    "train_dice, val_dice = 0, 0\n",
    "n_train, n_val = 0, 0\n",
    "\n",
    "model.eval()\n",
    "predictions = []\n",
    "with torch.no_grad():\n",
    "    for i_val, (X, y) in enumerate(test_loader):   \n",
    "        # n_val += len(y)\n",
    "        print(i_val)\n",
    "        X = X.to(device)\n",
    "        # y = y.to(device)\n",
    "\n",
    "        pred = model(X)['out']\n",
    "        predictions.append(pred)\n",
    "\n",
    "        "
   ]
  },
  {
   "cell_type": "code",
   "execution_count": 147,
   "id": "41de9a8d-e59e-4586-8392-01e01f2410aa",
   "metadata": {},
   "outputs": [
    {
     "data": {
      "text/plain": [
       "[tensor([[[[ -9.4162,  -9.4162,  -9.4162,  ..., -10.4249, -10.4249, -10.4249],\n",
       "           [ -9.4162,  -9.4162,  -9.4162,  ..., -10.4249, -10.4249, -10.4249],\n",
       "           [ -9.4162,  -9.4162,  -9.4162,  ..., -10.4249, -10.4249, -10.4249],\n",
       "           ...,\n",
       "           [-10.0874, -10.0874, -10.0874,  ..., -10.0577, -10.0577, -10.0577],\n",
       "           [-10.0874, -10.0874, -10.0874,  ..., -10.0577, -10.0577, -10.0577],\n",
       "           [-10.0874, -10.0874, -10.0874,  ..., -10.0577, -10.0577, -10.0577]]]],\n",
       "        device='cuda:0'),\n",
       " tensor([[[[ -8.0304,  -8.0304,  -8.0304,  ...,  -9.4765,  -9.4765,  -9.4765],\n",
       "           [ -8.0304,  -8.0304,  -8.0304,  ...,  -9.4765,  -9.4765,  -9.4765],\n",
       "           [ -8.0304,  -8.0304,  -8.0304,  ...,  -9.4765,  -9.4765,  -9.4765],\n",
       "           ...,\n",
       "           [-11.8439, -11.8439, -11.8439,  ..., -10.7291, -10.7291, -10.7291],\n",
       "           [-11.8439, -11.8439, -11.8439,  ..., -10.7291, -10.7291, -10.7291],\n",
       "           [-11.8439, -11.8439, -11.8439,  ..., -10.7291, -10.7291, -10.7291]]]],\n",
       "        device='cuda:0')]"
      ]
     },
     "execution_count": 147,
     "metadata": {},
     "output_type": "execute_result"
    }
   ],
   "source": [
    "predictions"
   ]
  },
  {
   "cell_type": "code",
   "execution_count": 54,
   "id": "ecece94e-823f-4506-870a-98e787d76b4e",
   "metadata": {},
   "outputs": [
    {
     "data": {
      "text/plain": [
       "['_DataLoader__initialized',\n",
       " '_DataLoader__multiprocessing_context',\n",
       " '_IterableDataset_len_called',\n",
       " '__annotations__',\n",
       " '__class__',\n",
       " '__class_getitem__',\n",
       " '__delattr__',\n",
       " '__dict__',\n",
       " '__dir__',\n",
       " '__doc__',\n",
       " '__eq__',\n",
       " '__format__',\n",
       " '__ge__',\n",
       " '__getattribute__',\n",
       " '__gt__',\n",
       " '__hash__',\n",
       " '__init__',\n",
       " '__init_subclass__',\n",
       " '__iter__',\n",
       " '__le__',\n",
       " '__len__',\n",
       " '__lt__',\n",
       " '__module__',\n",
       " '__ne__',\n",
       " '__new__',\n",
       " '__orig_bases__',\n",
       " '__parameters__',\n",
       " '__reduce__',\n",
       " '__reduce_ex__',\n",
       " '__repr__',\n",
       " '__setattr__',\n",
       " '__sizeof__',\n",
       " '__slots__',\n",
       " '__str__',\n",
       " '__subclasshook__',\n",
       " '__weakref__',\n",
       " '_auto_collation',\n",
       " '_dataset_kind',\n",
       " '_get_iterator',\n",
       " '_index_sampler',\n",
       " '_is_protocol',\n",
       " '_iterator',\n",
       " 'batch_sampler',\n",
       " 'batch_size',\n",
       " 'check_worker_number_rationality',\n",
       " 'collate_fn',\n",
       " 'dataset',\n",
       " 'drop_last',\n",
       " 'generator',\n",
       " 'multiprocessing_context',\n",
       " 'num_workers',\n",
       " 'persistent_workers',\n",
       " 'pin_memory',\n",
       " 'pin_memory_device',\n",
       " 'prefetch_factor',\n",
       " 'sampler',\n",
       " 'timeout',\n",
       " 'worker_init_fn']"
      ]
     },
     "execution_count": 54,
     "metadata": {},
     "output_type": "execute_result"
    }
   ],
   "source": [
    "dir(test_loader)"
   ]
  },
  {
   "cell_type": "code",
   "execution_count": 52,
   "id": "52146819-2844-4246-b49b-74e46060c399",
   "metadata": {},
   "outputs": [
    {
     "data": {
      "text/plain": [
       "[]"
      ]
     },
     "execution_count": 52,
     "metadata": {},
     "output_type": "execute_result"
    }
   ],
   "source": [
    "predictions"
   ]
  },
  {
   "cell_type": "code",
   "execution_count": 35,
   "id": "b3362a49-19f4-4f56-833d-3c4318287365",
   "metadata": {},
   "outputs": [
    {
     "data": {
      "text/plain": [
       "[]"
      ]
     },
     "execution_count": 35,
     "metadata": {},
     "output_type": "execute_result"
    }
   ],
   "source": [
    "masks"
   ]
  },
  {
   "cell_type": "code",
   "execution_count": null,
   "id": "45f469a6-f16f-42d9-947c-f25ea2c42f7d",
   "metadata": {},
   "outputs": [],
   "source": []
  }
 ],
 "metadata": {
  "environment": {
   "kernel": "python3",
   "name": "pytorch-gpu.1-13.m108",
   "type": "gcloud",
   "uri": "gcr.io/deeplearning-platform-release/pytorch-gpu.1-13:m108"
  },
  "kernelspec": {
   "display_name": "Python 3",
   "language": "python",
   "name": "python3"
  },
  "language_info": {
   "codemirror_mode": {
    "name": "ipython",
    "version": 3
   },
   "file_extension": ".py",
   "mimetype": "text/x-python",
   "name": "python",
   "nbconvert_exporter": "python",
   "pygments_lexer": "ipython3",
   "version": "3.10.10"
  }
 },
 "nbformat": 4,
 "nbformat_minor": 5
}
